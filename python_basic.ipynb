{
 "cells": [
  {
   "cell_type": "markdown",
   "id": "5d3dde46-dd03-4152-82e7-161fe75d969e",
   "metadata": {},
   "source": [
    "Q1. Who developed Python programming language?"
   ]
  },
  {
   "cell_type": "markdown",
   "id": "6cd39dd7-5e24-49a2-a92a-c029d03f8616",
   "metadata": {},
   "source": [
    "Python programming language was created by Guido van Rossum."
   ]
  },
  {
   "cell_type": "markdown",
   "id": "a329e5c2-eeb2-4494-9738-77c3f7a7f2d4",
   "metadata": {},
   "source": [
    "Q.2 Which type of programming does python support?"
   ]
  },
  {
   "cell_type": "markdown",
   "id": "18566523-31ec-493e-8e9a-563bf6f2e34a",
   "metadata": {},
   "source": [
    "Object-oriented, structured, and functional programming"
   ]
  },
  {
   "cell_type": "markdown",
   "id": "a8dae57d-9998-4be1-9121-dbacdfa949af",
   "metadata": {},
   "source": [
    "Q3. Is Python case sensitve when dealing with identifiers?"
   ]
  },
  {
   "cell_type": "markdown",
   "id": "813b740d-ad09-407c-8288-0f99db02f7ce",
   "metadata": {},
   "source": [
    "Yes, Python is case sensitive when dealing with identifiers."
   ]
  },
  {
   "cell_type": "markdown",
   "id": "7c0a9775-d205-41d4-b7bf-71ecbb8123d6",
   "metadata": {},
   "source": [
    "Q4. What is the correct extention of the python file?"
   ]
  },
  {
   "cell_type": "markdown",
   "id": "8c365bca-4d16-4467-a7cc-d86124f2c0b6",
   "metadata": {},
   "source": [
    ".py"
   ]
  },
  {
   "cell_type": "markdown",
   "id": "0755c24b-a807-4653-b64a-78531c047a70",
   "metadata": {},
   "source": [
    "Q5.Is python code compiled or interpreted?"
   ]
  },
  {
   "cell_type": "markdown",
   "id": "279e5a25-9d8a-4e70-a8e7-a6e72b3bd38e",
   "metadata": {},
   "source": [
    "Compiled interpreted language."
   ]
  },
  {
   "cell_type": "markdown",
   "id": "03e984b7-b528-4954-a17f-aae53b9d34d2",
   "metadata": {},
   "source": [
    "Q6. Name a few block of code used to define a python language?"
   ]
  },
  {
   "cell_type": "code",
   "execution_count": 2,
   "id": "c4de443d-ead1-4e8a-9277-4fa136ef5d0d",
   "metadata": {},
   "outputs": [
    {
     "name": "stdout",
     "output_type": "stream",
     "text": [
      "0\n",
      "1\n",
      "2\n",
      "3\n",
      "4\n",
      "5\n",
      "6\n",
      "7\n",
      "8\n",
      "9\n"
     ]
    }
   ],
   "source": [
    "for i in range(10):\n",
    "    print(i)\n"
   ]
  },
  {
   "cell_type": "markdown",
   "id": "da122402-a591-40a7-a2e1-2fdebcf6e016",
   "metadata": {},
   "source": [
    "Q7. State a character used to  give single line comments in pyhton?"
   ]
  },
  {
   "cell_type": "code",
   "execution_count": 1,
   "id": "28f90c97-371b-4f68-8b6a-84ae3a600d0d",
   "metadata": {},
   "outputs": [],
   "source": [
    "# is used for comment in python."
   ]
  },
  {
   "cell_type": "raw",
   "id": "9305ff37-8c6c-4b75-a813-465737dd25bb",
   "metadata": {},
   "source": [
    "Q8. Mention function which can help us to find the version of python that we are currently working on?"
   ]
  },
  {
   "cell_type": "markdown",
   "id": "74af3c99-470b-4976-9f5c-d1330e935337",
   "metadata": {},
   "source": [
    "Sys.version"
   ]
  },
  {
   "cell_type": "markdown",
   "id": "0e9adc7a-f5e5-4925-9e8f-8b4c839a813f",
   "metadata": {},
   "source": [
    "Q9. Pyhton supports the creation of anonymous function at runtime , using a construct called ________."
   ]
  },
  {
   "cell_type": "markdown",
   "id": "7a7613f0-bfb4-479c-9d5f-4205f62a9718",
   "metadata": {},
   "source": [
    "Lambda"
   ]
  },
  {
   "cell_type": "markdown",
   "id": "859aa360-4c9d-4cfc-8ba9-b218fdc2a188",
   "metadata": {},
   "source": [
    "Q10. What does pip stand for python?"
   ]
  },
  {
   "cell_type": "markdown",
   "id": "4527e8b5-706c-4c83-9256-33ac786e4ae7",
   "metadata": {},
   "source": [
    "Python PIP is the package manager for Python packages. We can use PIP to install packages that do not come with Python"
   ]
  },
  {
   "cell_type": "markdown",
   "id": "104c0351-fefc-4fe1-88e4-d30fc1b192d5",
   "metadata": {},
   "source": [
    "Q11. Mention a few built in function in python?"
   ]
  },
  {
   "cell_type": "markdown",
   "id": "7293a862-2e6b-4005-968c-df5627099ad3",
   "metadata": {},
   "source": [
    "Python filter(), map() etc."
   ]
  },
  {
   "cell_type": "markdown",
   "id": "ce39daef-bab5-4db1-bf08-c7db39a2bea5",
   "metadata": {},
   "source": [
    "Q12. What is the maximum possible length of the the identifier in python? "
   ]
  },
  {
   "cell_type": "markdown",
   "id": "209a2d99-d07a-4a4b-90a8-059754a5364c",
   "metadata": {},
   "source": [
    "79 characters."
   ]
  },
  {
   "cell_type": "markdown",
   "id": "1a2d17a0-8f8c-4960-8757-10f55b7dc238",
   "metadata": {},
   "source": [
    "Q13. What are the benifits of using pyhton?"
   ]
  },
  {
   "cell_type": "markdown",
   "id": "72070f88-cfe3-431a-babd-9f5b20715a3e",
   "metadata": {},
   "source": [
    "Open Source and free,Presence of Libraries,Huge Support Community,Easy to learn."
   ]
  },
  {
   "cell_type": "markdown",
   "id": "cfe9f43f-e9b6-4bb9-bb8d-3c7762d001d9",
   "metadata": {},
   "source": [
    "Q14. How is memory managed in python?"
   ]
  },
  {
   "cell_type": "markdown",
   "id": "6dadb9b1-a388-4901-9699-0f7b7aad3bce",
   "metadata": {},
   "source": [
    "Memory management in Python is handled automatically by the interpreter through a process called garbage collection."
   ]
  },
  {
   "cell_type": "markdown",
   "id": "a2578c22-c9a0-4ef6-9475-edf51d963cf4",
   "metadata": {},
   "source": [
    "Q15. How to install python on windows and set path variables?"
   ]
  },
  {
   "cell_type": "markdown",
   "id": "8aa4406b-20c7-42cb-97e2-8ee7521b5922",
   "metadata": {},
   "source": [
    "1. Download and run the Python installer from the official website.\n",
    "2. Select the \"Add Python to PATH\" option during the installation.\n",
    "3. Open the Command Prompt and type \"python\" to verify installation."
   ]
  },
  {
   "cell_type": "markdown",
   "id": "0143bcb2-253b-4940-bad3-6effbbcead79",
   "metadata": {},
   "source": [
    "Q16. Is indentation required in python?"
   ]
  },
  {
   "cell_type": "markdown",
   "id": "3cb45bd4-b8eb-4c25-83d6-f80f63b63bd4",
   "metadata": {},
   "source": [
    "Yes."
   ]
  }
 ],
 "metadata": {
  "kernelspec": {
   "display_name": "Python 3 (ipykernel)",
   "language": "python",
   "name": "python3"
  },
  "language_info": {
   "codemirror_mode": {
    "name": "ipython",
    "version": 3
   },
   "file_extension": ".py",
   "mimetype": "text/x-python",
   "name": "python",
   "nbconvert_exporter": "python",
   "pygments_lexer": "ipython3",
   "version": "3.10.8"
  }
 },
 "nbformat": 4,
 "nbformat_minor": 5
}
